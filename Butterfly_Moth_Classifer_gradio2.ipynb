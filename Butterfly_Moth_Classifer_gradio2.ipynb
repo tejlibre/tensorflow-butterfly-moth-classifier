{
 "cells": [
  {
   "cell_type": "code",
   "execution_count": 1,
   "id": "737f8aca-c15b-4c9b-a9f3-b7af62348ccd",
   "metadata": {},
   "outputs": [
    {
     "name": "stderr",
     "output_type": "stream",
     "text": [
      "2022-02-11 14:31:38.822148: W tensorflow/stream_executor/platform/default/dso_loader.cc:64] Could not load dynamic library 'libcudart.so.11.0'; dlerror: libcudart.so.11.0: cannot open shared object file: No such file or directory\n",
      "2022-02-11 14:31:38.822173: I tensorflow/stream_executor/cuda/cudart_stub.cc:29] Ignore above cudart dlerror if you do not have a GPU set up on your machine.\n"
     ]
    },
    {
     "name": "stdout",
     "output_type": "stream",
     "text": [
      "2.6.0\n"
     ]
    }
   ],
   "source": [
    "import os\n",
    "\n",
    "import tensorflow as tf\n",
    "from tensorflow import keras\n",
    "from keras.preprocessing.image import ImageDataGenerator, load_img, img_to_array\n",
    "import numpy as np\n",
    "from PIL import Image as pil_image\n",
    "\n",
    "print(tf.version.VERSION)"
   ]
  },
  {
   "cell_type": "code",
   "execution_count": 2,
   "id": "70fab3ed-26a2-45c2-84f3-a820e0d0b3d2",
   "metadata": {},
   "outputs": [],
   "source": [
    "#checkpoint_path = \"training_1/cp.ckpt\"\n",
    "#checkpoint_dir = os.path.dirname(checkpoint_path)"
   ]
  },
  {
   "cell_type": "code",
   "execution_count": 3,
   "id": "2b836ab3-e9c8-4657-9706-6d9ec4d6d22e",
   "metadata": {},
   "outputs": [
    {
     "name": "stderr",
     "output_type": "stream",
     "text": [
      "2022-02-11 14:31:40.372409: W tensorflow/stream_executor/platform/default/dso_loader.cc:64] Could not load dynamic library 'libcuda.so.1'; dlerror: libcuda.so.1: cannot open shared object file: No such file or directory\n",
      "2022-02-11 14:31:40.372436: W tensorflow/stream_executor/cuda/cuda_driver.cc:269] failed call to cuInit: UNKNOWN ERROR (303)\n",
      "2022-02-11 14:31:40.372455: I tensorflow/stream_executor/cuda/cuda_diagnostics.cc:156] kernel driver does not appear to be running on this host (lion-tva2): /proc/driver/nvidia/version does not exist\n",
      "2022-02-11 14:31:40.372693: I tensorflow/core/platform/cpu_feature_guard.cc:142] This TensorFlow binary is optimized with oneAPI Deep Neural Network Library (oneDNN) to use the following CPU instructions in performance-critical operations:  AVX2 AVX512F FMA\n",
      "To enable them in other operations, rebuild TensorFlow with the appropriate compiler flags.\n"
     ]
    },
    {
     "name": "stdout",
     "output_type": "stream",
     "text": [
      "Model: \"model_1\"\n",
      "_________________________________________________________________\n",
      "Layer (type)                 Output Shape              Param #   \n",
      "=================================================================\n",
      "input_4 (InputLayer)         [(None, 160, 160, 3)]     0         \n",
      "_________________________________________________________________\n",
      "sequential_1 (Sequential)    (None, 160, 160, 3)       0         \n",
      "_________________________________________________________________\n",
      "tf.math.truediv_1 (TFOpLambd (None, 160, 160, 3)       0         \n",
      "_________________________________________________________________\n",
      "tf.math.subtract_1 (TFOpLamb (None, 160, 160, 3)       0         \n",
      "_________________________________________________________________\n",
      "mobilenetv2_1.00_160 (Functi (None, 5, 5, 1280)        2257984   \n",
      "_________________________________________________________________\n",
      "global_average_pooling2d_1 ( (None, 1280)              0         \n",
      "_________________________________________________________________\n",
      "dropout_1 (Dropout)          (None, 1280)              0         \n",
      "_________________________________________________________________\n",
      "dense_1 (Dense)              (None, 1)                 1281      \n",
      "=================================================================\n",
      "Total params: 2,259,265\n",
      "Trainable params: 1,862,721\n",
      "Non-trainable params: 396,544\n",
      "_________________________________________________________________\n"
     ]
    }
   ],
   "source": [
    "# Recreate the exact same model, including its weights and the optimizer\n",
    "model = tf.keras.models.load_model('../saved_model/my_butterfly_model', compile = True)\n",
    "\n",
    "# Show the model architecture\n",
    "model.summary()"
   ]
  },
  {
   "cell_type": "code",
   "execution_count": null,
   "id": "560fe682-1528-4a3f-b75d-e0ca387a58b4",
   "metadata": {},
   "outputs": [],
   "source": []
  },
  {
   "cell_type": "code",
   "execution_count": 4,
   "id": "b3f16865-ffdd-4390-aa34-1bae314919b7",
   "metadata": {},
   "outputs": [],
   "source": [
    "# Evaluate the restored model\n",
    "#loss, acc = model.evaluate(test_images, test_labels, verbose=2)\n",
    "#print('Restored model, accuracy: {:5.2f}%'.format(100 * acc))\n",
    "\n",
    "#print(model.predict(test_images).shape)"
   ]
  },
  {
   "cell_type": "code",
   "execution_count": 25,
   "id": "f36a8c7c-27d2-4e27-a22b-940e4eaac5a9",
   "metadata": {},
   "outputs": [
    {
     "name": "stdout",
     "output_type": "stream",
     "text": [
      "Running on local URL:  http://127.0.0.1:7881/\n",
      "\n",
      "To create a public link, set `share=True` in `launch()`.\n"
     ]
    },
    {
     "data": {
      "text/html": [
       "\n",
       "        <iframe\n",
       "            width=\"900\"\n",
       "            height=\"500\"\n",
       "            src=\"http://127.0.0.1:7881/\"\n",
       "            frameborder=\"0\"\n",
       "            allowfullscreen\n",
       "        ></iframe>\n",
       "        "
      ],
      "text/plain": [
       "<IPython.lib.display.IFrame at 0x7fca58e72400>"
      ]
     },
     "metadata": {},
     "output_type": "display_data"
    },
    {
     "data": {
      "text/plain": [
       "(<fastapi.applications.FastAPI at 0x7fcb04660340>,\n",
       " 'http://127.0.0.1:7881/',\n",
       " None)"
      ]
     },
     "execution_count": 25,
     "metadata": {},
     "output_type": "execute_result"
    },
    {
     "name": "stdout",
     "output_type": "stream",
     "text": [
      "[[[208. 208. 210.]\n",
      "  [209. 209. 211.]\n",
      "  [214. 214. 216.]\n",
      "  ...\n",
      "  [ 89.  85.  62.]\n",
      "  [ 89.  85.  61.]\n",
      "  [ 90.  85.  62.]]\n",
      "\n",
      " [[206. 206. 208.]\n",
      "  [209. 209. 211.]\n",
      "  [213. 213. 215.]\n",
      "  ...\n",
      "  [ 81.  78.  57.]\n",
      "  [ 86.  81.  59.]\n",
      "  [ 89.  84.  64.]]\n",
      "\n",
      " [[209. 209. 211.]\n",
      "  [209. 209. 211.]\n",
      "  [211. 211. 213.]\n",
      "  ...\n",
      "  [ 69.  66.  47.]\n",
      "  [ 73.  69.  50.]\n",
      "  [ 77.  73.  54.]]\n",
      "\n",
      " ...\n",
      "\n",
      " [[ 73.   8.  12.]\n",
      "  [ 70.   9.  11.]\n",
      "  [ 69.  12.   9.]\n",
      "  ...\n",
      "  [  3.   3.   5.]\n",
      "  [  3.   3.   5.]\n",
      "  [  3.   3.   5.]]\n",
      "\n",
      " [[ 75.   9.  13.]\n",
      "  [ 72.  10.  12.]\n",
      "  [ 71.  12.  10.]\n",
      "  ...\n",
      "  [  3.   3.   5.]\n",
      "  [  3.   3.   5.]\n",
      "  [  3.   3.   5.]]\n",
      "\n",
      " [[ 74.  11.  15.]\n",
      "  [ 71.  13.  14.]\n",
      "  [ 68.  13.  11.]\n",
      "  ...\n",
      "  [  3.   3.   5.]\n",
      "  [  3.   3.   5.]\n",
      "  [  3.   3.   5.]]]\n"
     ]
    },
    {
     "name": "stderr",
     "output_type": "stream",
     "text": [
      "Traceback (most recent call last):\n",
      "  File \"/home/t.vaghjee/Documents/tools/python/anaconda3/lib/python3.8/site-packages/gradio/app.py\", line 199, in predict\n",
      "    prediction, durations = await run_in_threadpool(\n",
      "  File \"/home/t.vaghjee/Documents/tools/python/anaconda3/lib/python3.8/site-packages/starlette/concurrency.py\", line 39, in run_in_threadpool\n",
      "    return await anyio.to_thread.run_sync(func, *args)\n",
      "  File \"/home/t.vaghjee/Documents/tools/python/anaconda3/lib/python3.8/site-packages/anyio/to_thread.py\", line 28, in run_sync\n",
      "    return await get_asynclib().run_sync_in_worker_thread(func, *args, cancellable=cancellable,\n",
      "  File \"/home/t.vaghjee/Documents/tools/python/anaconda3/lib/python3.8/site-packages/anyio/_backends/_asyncio.py\", line 818, in run_sync_in_worker_thread\n",
      "    return await future\n",
      "  File \"/home/t.vaghjee/Documents/tools/python/anaconda3/lib/python3.8/site-packages/anyio/_backends/_asyncio.py\", line 754, in run\n",
      "    result = context.run(func, *args)\n",
      "  File \"/home/t.vaghjee/Documents/tools/python/anaconda3/lib/python3.8/site-packages/gradio/interface.py\", line 533, in process\n",
      "    processed_output = [\n",
      "  File \"/home/t.vaghjee/Documents/tools/python/anaconda3/lib/python3.8/site-packages/gradio/interface.py\", line 534, in <listcomp>\n",
      "    output_component.postprocess(predictions[i])\n",
      "  File \"/home/t.vaghjee/Documents/tools/python/anaconda3/lib/python3.8/site-packages/gradio/outputs.py\", line 243, in postprocess\n",
      "    raise ValueError(\n",
      "ValueError: Unknown type. Please choose from: 'numpy', 'pil', 'file', 'plot'.\n"
     ]
    }
   ],
   "source": [
    "import numpy as np\n",
    "\n",
    "import gradio as gr\n",
    "import matplotlib.pyplot as plt\n",
    "from keras.preprocessing.image import load_img, img_to_array\n",
    "\n",
    "def classify_image(input_img):\n",
    "    img = input_img\n",
    "    #img = input_img.resize((160, 160), resample=pil_image.BICUBIC)\n",
    "    arr = img_to_array(img)\n",
    "    print(arr)\n",
    "    #img = load_img(input_img)\n",
    "    # Inside the classify_image function\n",
    "    #img = img.resize((160, 160), resample=pil_image.BICUBIC)\n",
    "    \n",
    "    #arr = np.expand_dims(arr, axis=0)\n",
    "    #arr /= 255\n",
    "    #score = model.predict(arr)\n",
    "    \n",
    "    arr = np.expand_dims(arr, axis=0)\n",
    "    arr /= 255\n",
    "    # Inside the classify_image function\n",
    "    score = model.predict(arr)\n",
    "    \n",
    "    return ('moth' if score < 0.5 else 'butterfly', float(score))\n",
    "\n",
    "\n",
    "iface = gr.Interface(classify_image, gr.inputs.Image(shape=(160, 160)), \"image\")\n",
    "\n",
    "iface.launch()"
   ]
  },
  {
   "cell_type": "code",
   "execution_count": null,
   "id": "7c767e3a-3d73-473b-b04f-56903043ea72",
   "metadata": {},
   "outputs": [],
   "source": []
  },
  {
   "cell_type": "code",
   "execution_count": null,
   "id": "9fb16d31-0a92-405d-8643-0072218cd478",
   "metadata": {},
   "outputs": [],
   "source": []
  }
 ],
 "metadata": {
  "kernelspec": {
   "display_name": "Python 3 (ipykernel)",
   "language": "python",
   "name": "python3"
  },
  "language_info": {
   "codemirror_mode": {
    "name": "ipython",
    "version": 3
   },
   "file_extension": ".py",
   "mimetype": "text/x-python",
   "name": "python",
   "nbconvert_exporter": "python",
   "pygments_lexer": "ipython3",
   "version": "3.8.12"
  }
 },
 "nbformat": 4,
 "nbformat_minor": 5
}
